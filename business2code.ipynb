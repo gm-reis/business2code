{
  "nbformat": 4,
  "nbformat_minor": 0,
  "metadata": {
    "colab": {
      "provenance": [],
      "authorship_tag": "ABX9TyNJcyNxWYJmVyHVCrih0ytG",
      "include_colab_link": true
    },
    "kernelspec": {
      "name": "python3",
      "display_name": "Python 3"
    },
    "language_info": {
      "name": "python"
    }
  },
  "cells": [
    {
      "cell_type": "markdown",
      "metadata": {
        "id": "view-in-github",
        "colab_type": "text"
      },
      "source": [
        "<a href=\"https://colab.research.google.com/github/gm-reis/business2code/blob/main/business2code.ipynb\" target=\"_parent\"><img src=\"https://colab.research.google.com/assets/colab-badge.svg\" alt=\"Open In Colab\"/></a>"
      ]
    },
    {
      "cell_type": "markdown",
      "source": [
        "\n",
        "```\n",
        "Instalando o Google SKD\n",
        "\n",
        "```"
      ],
      "metadata": {
        "id": "F80TxSC3qOIe"
      }
    },
    {
      "cell_type": "code",
      "execution_count": null,
      "metadata": {
        "id": "_Y5iArovpwzT"
      },
      "outputs": [],
      "source": [
        "!pip install -q -U google-generativeai\n",
        "\n",
        "import google.generativeai as genai\n",
        "\n",
        "GOOGLE_API_KEY = \"Your Google API Key Here\"\n",
        "genai.configure(api_key=GOOGLE_API_KEY)"
      ]
    },
    {
      "cell_type": "markdown",
      "source": [
        "\n",
        "\n",
        "\n",
        "```\n",
        "Listando os modelos disponíveis\n",
        "\n",
        "```\n",
        "\n",
        "\n"
      ],
      "metadata": {
        "id": "4sBdAu5Oql7D"
      }
    },
    {
      "cell_type": "code",
      "source": [
        "for m in genai.list_models():\n",
        "  if 'generateContent' in m.supported_generation_methods:\n",
        "    print(m.name)"
      ],
      "metadata": {
        "colab": {
          "base_uri": "https://localhost:8080/",
          "height": 139
        },
        "id": "cg-6c_tZrJxT",
        "outputId": "59ffae5a-e69c-452b-c469-5600cdbd6f94"
      },
      "execution_count": null,
      "outputs": [
        {
          "output_type": "stream",
          "name": "stdout",
          "text": [
            "models/gemini-1.0-pro\n",
            "models/gemini-1.0-pro-001\n",
            "models/gemini-1.0-pro-latest\n",
            "models/gemini-1.0-pro-vision-latest\n",
            "models/gemini-1.5-pro-latest\n",
            "models/gemini-pro\n",
            "models/gemini-pro-vision\n"
          ]
        }
      ]
    },
    {
      "cell_type": "markdown",
      "source": [
        "\n",
        "\n",
        "```\n",
        "Configurando o modelo\n",
        "\n",
        "```\n",
        "\n"
      ],
      "metadata": {
        "id": "NMZwuHlnrYLH"
      }
    },
    {
      "cell_type": "code",
      "source": [
        "generation_config = {\n",
        "    \"candidate_count\": 1,\n",
        "    \"temperature\": 0.5\n",
        "}\n",
        "\n",
        "safety_settings = {\n",
        "    \"HARASSMENT\": \"BLOCK_MEDIUM_AND_ABOVE\",\n",
        "    \"HATE\": \"BLOCK_MEDIUM_AND_ABOVE\",\n",
        "    \"SEXUAL\": \"BLOCK_MEDIUM_AND_ABOVE\",\n",
        "    \"DANGEROUS\": \"BLOCK_MEDIUM_AND_ABOVE\"\n",
        "}"
      ],
      "metadata": {
        "id": "ryIbzajeqx8n"
      },
      "execution_count": null,
      "outputs": []
    },
    {
      "cell_type": "markdown",
      "source": [
        "\n",
        "\n",
        "```\n",
        "Inicializando o modelo\n",
        "```\n",
        "\n"
      ],
      "metadata": {
        "id": "rkxxYeL8r5-8"
      }
    },
    {
      "cell_type": "code",
      "source": [
        "system_instruction=system_instruction = \"Seu nome é Noah. Você é um desenvolvedor de software que precisa criar um roteiro técnico e um código a partir de um negócio definido junto ao cliente. Seja breve na resposta do primeiro passo e aguarde a resposta e responda ela antes de seguir para o próximo passo. Primeiro passo: você precisa perguntar de que área é o projeto e de que setor é o cliente. Segundo passo: aja como se ainda não existisse nenhuma configuração prévia no ambiente para essa implementação. Explique um possível fluxograma desse processo. Terceiro passo: Forneça exemplos de criação de objetos, metadados, fluxos, rótulos personalizados, usuários, campos customizados. Quarto passo: O projeto é todo realizado em Salesforce e a linguagem de programação é Apex. Caso sejam necessários componentes Aura ou LWC, utilizar javascript, HTML e CSS. Forneça exemplos de códigos Apex e de componentes LWC e Aura pertinentes ao solicitado.\"\n",
        "\n",
        "model = genai.GenerativeModel(model_name=\"gemini-1.5-pro-latest\",\n",
        "                              generation_config=generation_config,\n",
        "                              safety_settings=safety_settings,\n",
        "                              system_instruction=system_instruction)\n",
        "\n",
        "chat = model.start_chat(history=[])"
      ],
      "metadata": {
        "id": "YalHLSh-sBaV"
      },
      "execution_count": null,
      "outputs": []
    },
    {
      "cell_type": "markdown",
      "source": [
        "\n",
        "\n",
        "```\n",
        "Utilizando o modelo\n",
        "```\n",
        "\n"
      ],
      "metadata": {
        "id": "hI48n5XfsbJS"
      }
    },
    {
      "cell_type": "code",
      "source": [
        "prompt = input(\"Olá! Meu nome é Noah, e sou seu assistente de desenvolvimento de software. Quando quiser encerrar, digite 'FIM'. Como você se chama? \")\n",
        "\n",
        "while prompt != \"FIM\":\n",
        "  response = chat.send_message(prompt)\n",
        "  print(\"Noah: \",response.text, \"\\n\")\n",
        "  prompt = input(\"Eu: \")\n",
        "\n"
      ],
      "metadata": {
        "id": "R4-v_RIksaoA"
      },
      "execution_count": null,
      "outputs": []
    }
  ]
}